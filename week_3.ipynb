{
 "cells": [
  {
   "cell_type": "code",
   "execution_count": 28,
   "metadata": {},
   "outputs": [
    {
     "name": "stderr",
     "output_type": "stream",
     "text": [
      "/var/folders/g_/v_4svj7n17z2m3fg9lhk_xcw0000gp/T/ipykernel_25173/4284570037.py:8: DeprecationWarning: `set_matplotlib_formats` is deprecated since IPython 7.23, directly use `matplotlib_inline.backend_inline.set_matplotlib_formats()`\n",
      "  set_matplotlib_formats('svg', 'pdf')\n"
     ]
    }
   ],
   "source": [
    "import random\n",
    "from numpy import prod\n",
    "from scipy.stats import beta\n",
    "\n",
    "%matplotlib inline\n",
    "import matplotlib.pyplot as plt\n",
    "from IPython.display import set_matplotlib_formats\n",
    "set_matplotlib_formats('svg', 'pdf')\n",
    "\n",
    "from collections import Counter"
   ]
  },
  {
   "cell_type": "code",
   "execution_count": 9,
   "metadata": {},
   "outputs": [],
   "source": [
    "def normalize_probs(probs):\n",
    "    total = sum(probs)\n",
    "    normedprobs = []\n",
    "    for p in probs:\n",
    "        normedprobs.append(p / total)\n",
    "    return normedprobs\n",
    "\n",
    "def roulette_wheel(normedprobs):\n",
    "    r = random.random()\n",
    "    # r = 0.3\n",
    "    accumulator = normedprobs[0]\n",
    "    # accumulator 0.25\n",
    "    for i in range(len(normedprobs)):\n",
    "        # for 0.25, 0.50, 0.75, 0.90\n",
    "        if r < accumulator:\n",
    "            # if 0.3 < 0.25\n",
    "            # if 0.3 < 0.50\n",
    "            # if 0.3 < 0.75\n",
    "            # if 0.3 < 0.90\n",
    "            return i\n",
    "            # NO\n",
    "            # 0.50\n",
    "            # 0.75\n",
    "            # 0.90\n",
    "        accumulator = accumulator + normedprobs[i + 1]\n",
    "        # 0.25 + 0.50\n",
    "        # accumulator = 0.75\n",
    "        # 0.50 + 0.75\n",
    "        # accumulator = 1.25\n",
    "        # 0.75 + 0.90\n",
    "        # accumulator = 1.65\n",
    "        # 0.90\n",
    "        # accumulator = 0.90\n",
    "        "
   ]
  },
  {
   "cell_type": "code",
   "execution_count": 97,
   "metadata": {},
   "outputs": [
    {
     "name": "stdout",
     "output_type": "stream",
     "text": [
      "2.4\n",
      "[0.10416666666666667, 0.20833333333333334, 0.3125, 0.375]\n",
      "4\n",
      "12\n",
      "18\n",
      "16\n",
      "{0.25: None, 0.5: None, 0.75: None, 0.9: None}\n",
      "{0.25: 0.10416666666666667, 0.5: 0.20833333333333334, 0.75: 0.3125, 0.9: 0.375}\n"
     ]
    }
   ],
   "source": [
    "probs1 = [0.25, 0.50, 0.75, 0.90]\n",
    "print(sum(probs1))\n",
    "\n",
    "normalized_probs1 = normalize_probs(probs1)\n",
    "print(normalized_probs1)\n",
    "\n",
    "roulette_wheel(normalized_probs1)\n",
    "\n",
    "list = []\n",
    "for i in range(50):\n",
    "    list.append(roulette_wheel(normalized_probs1))\n",
    "list\n",
    "\n",
    "print(list.count(0))\n",
    "print(list.count(1))\n",
    "print(list.count(2))\n",
    "print(list.count(3))\n",
    "\n",
    "Counter(list)\n",
    "# big index value = takes up most of the space in the sum of index values\n",
    "# 0.90 occupies more space than 0.25, out of 2.4, so when normalized\n",
    "\n",
    "my_dict = dict.fromkeys(probs1)\n",
    "print(my_dict)\n",
    "\n",
    "for key, val in zip(my_dict, normalized_probs1):\n",
    "    my_dict[key] = val\n",
    "\n",
    "print(my_dict)"
   ]
  }
 ],
 "metadata": {
  "kernelspec": {
   "display_name": "Python 3",
   "language": "python",
   "name": "python3"
  },
  "language_info": {
   "codemirror_mode": {
    "name": "ipython",
    "version": 3
   },
   "file_extension": ".py",
   "mimetype": "text/x-python",
   "name": "python",
   "nbconvert_exporter": "python",
   "pygments_lexer": "ipython3",
   "version": "3.11.5"
  }
 },
 "nbformat": 4,
 "nbformat_minor": 2
}
